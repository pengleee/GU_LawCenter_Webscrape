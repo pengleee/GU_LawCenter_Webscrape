{
 "cells": [
  {
   "cell_type": "code",
   "execution_count": 135,
   "metadata": {},
   "outputs": [],
   "source": [
    "from selenium import webdriver\n",
    "from selenium.webdriver.common.by import By\n",
    "from selenium.webdriver.support.ui import Select\n",
    "from selenium.webdriver.common.keys import Keys\n",
    "\n",
    "from bs4 import BeautifulSoup\n",
    "import pandas as pd"
   ]
  },
  {
   "cell_type": "code",
   "execution_count": 136,
   "metadata": {},
   "outputs": [
    {
     "name": "stderr",
     "output_type": "stream",
     "text": [
      "<ipython-input-136-c5cbcde32321>:3: DeprecationWarning: executable_path has been deprecated, please pass in a Service object\n",
      "  driver = webdriver.Chrome(executable_path='/usr/local/bin/chromedriver')\n"
     ]
    }
   ],
   "source": [
    "# Step 1: Set up the web driver (Make sure you have the correct version for your browser)\n",
    "\n",
    "driver = webdriver.Chrome(executable_path='/usr/local/bin/chromedriver')"
   ]
  },
  {
   "cell_type": "code",
   "execution_count": 137,
   "metadata": {},
   "outputs": [],
   "source": [
    "# Step 2: Open the Georgetown directory page\n",
    "# driver.get(\"https://contact.georgetown.edu\")\n",
    "driver.get(\"https://contact.georgetown.edu/advancedsearch/\")"
   ]
  },
  {
   "cell_type": "code",
   "execution_count": 138,
   "metadata": {},
   "outputs": [],
   "source": [
    "# Step 3: Select from the dropdown menu\n",
    "\n",
    "dropdown = driver.find_element(By.NAME, \"deptMatch\")\n",
    "select = Select(dropdown)\n",
    "select.select_by_value(\"2\") # select 'contains', while `<option value=\"2\">contains</option>`"
   ]
  },
  {
   "cell_type": "code",
   "execution_count": 139,
   "metadata": {},
   "outputs": [],
   "source": [
    "# Step 4: Input search term for law students\n",
    "\n",
    "search_box = driver.find_element(By.NAME, \"department\")\n",
    "search_box.send_keys(\"law center\")\n",
    "search_box.send_keys(Keys.RETURN)"
   ]
  },
  {
   "cell_type": "code",
   "execution_count": 140,
   "metadata": {},
   "outputs": [],
   "source": [
    "# Step 5: Parse the page content with BeautifulSoup\n",
    "soup = BeautifulSoup(driver.page_source, \"html.parser\")"
   ]
  },
  {
   "cell_type": "code",
   "execution_count": 141,
   "metadata": {},
   "outputs": [],
   "source": [
    "# get_email()\n",
    "\n",
    "def get_netID_email(link):\n",
    "    netID = link.split('/')[-1]\n",
    "    email = netID + '@georgetown.edu'\n",
    "    return (netID, email)"
   ]
  },
  {
   "cell_type": "code",
   "execution_count": 142,
   "metadata": {},
   "outputs": [],
   "source": [
    "# Key step: Extract relevant fields\n",
    "names = []\n",
    "phones = []\n",
    "affiliations = []\n",
    "statuses = []\n",
    "emails = []\n",
    "links = []\n",
    "\n",
    "persons = soup.find_all(\"td\")\n",
    "\n",
    "# Adjust the selectors based on the directory's structure\n",
    "for i in range(len(persons)):\n",
    "    if i % 3 == 0:\n",
    "        name = persons[i].find(\"a\").text if persons[i].find(\"a\") else None\n",
    "        link = persons[i].find(\"a\")['href'] if persons[i].find(\"a\")['href'] else None\n",
    "        email = get_netID_email(link)[1]\n",
    "        \n",
    "        names.append(name)\n",
    "        links.append(link)\n",
    "        emails.append(email)\n",
    "    elif i % 3 == 1:\n",
    "        status = persons[i].contents[0].strip() if persons[i].contents[0] else None\n",
    "        affiliation = persons[i].find(\"small\").text if persons[i].find(\"small\") else None\n",
    "        statuses.append(status)\n",
    "        affiliations.append(affiliation)\n",
    "    else:\n",
    "        pass"
   ]
  },
  {
   "cell_type": "code",
   "execution_count": 148,
   "metadata": {},
   "outputs": [],
   "source": [
    "# Step 7: Store the data in a pandas DataFrame and export to CSV\n",
    "data = {\n",
    "    # \"Name\": names,\n",
    "    \"Status\": statuses,\n",
    "    \"Affiliation\": affiliations,\n",
    "    \"Email\": emails,\n",
    "    # \"Profile Link\": links\n",
    "}\n",
    "df = pd.DataFrame(data)"
   ]
  },
  {
   "cell_type": "code",
   "execution_count": 149,
   "metadata": {},
   "outputs": [],
   "source": [
    "# Step 8: Save to CSV\n",
    "df.to_csv(\"georgetown_law_center_directory.csv\", index=False)\n",
    "df['Email'].to_csv(\"emails.csv\", index=False)"
   ]
  },
  {
   "cell_type": "code",
   "execution_count": 145,
   "metadata": {},
   "outputs": [],
   "source": [
    "# Close the browser\n",
    "driver.quit()"
   ]
  }
 ],
 "metadata": {
  "kernelspec": {
   "display_name": "base",
   "language": "python",
   "name": "python3"
  },
  "language_info": {
   "codemirror_mode": {
    "name": "ipython",
    "version": 3
   },
   "file_extension": ".py",
   "mimetype": "text/x-python",
   "name": "python",
   "nbconvert_exporter": "python",
   "pygments_lexer": "ipython3",
   "version": "3.8.8"
  }
 },
 "nbformat": 4,
 "nbformat_minor": 2
}
